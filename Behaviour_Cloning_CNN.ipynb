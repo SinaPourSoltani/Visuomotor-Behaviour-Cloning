{
  "nbformat": 4,
  "nbformat_minor": 0,
  "metadata": {
    "colab": {
      "name": "Behaviour Cloning CNN",
      "provenance": [],
      "collapsed_sections": []
    },
    "kernelspec": {
      "name": "venv",
      "display_name": "venv",
      "language": "python"
    },
    "accelerator": "GPU"
  },
  "cells": [
    {
      "cell_type": "code",
      "metadata": {
        "id": "iBfoFQYeP8t6"
      },
      "source": [
        "!git clone https://github.com/SinaPourSoltani/Visuomotor-Behaviour-Cloning.git\n",
        "!pip3 install -r \"Visuomotor-Behaviour-Cloning/requirements.txt\"\n",
        "\n",
        "import os \n",
        "os.kill(os.getpid(), 9)"
      ],
      "execution_count": null,
      "outputs": []
    },
    {
      "cell_type": "code",
      "metadata": {
        "id": "UJgMGBKWN1Ii"
      },
      "source": [
        "import sys\n",
        "import json\n",
        "from datetime import datetime\n",
        "\n",
        "sys.path.append('Visuomotor-Behaviour-Cloning')\n",
        "\n",
        "from BehaviourCloningCNN import *\n",
        "\n",
        "\n",
        "# Without shadows\n",
        "data_link = \"https://github.com/SinaPourSoltani/Visuomotor-Behaviour-Cloning/releases/download/v0.2/data.zip\"\n",
        "\n",
        "# With Shadows\n",
        "data_link = \"https://github.com/SinaPourSoltani/Visuomotor-Behaviour-Cloning/releases/download/v0.3/data.zip\"\n",
        "\n",
        "# Stereo Images\n",
        "data_link = \"https://github.com/SinaPourSoltani/Visuomotor-Behaviour-Cloning/releases/download/v0.4/data.zip\" \n",
        "\n",
        "load_data(data_link)\n",
        "train_loader, valid_loader, test_loader = get_data_loaders(*get_episodes(), std_noise_poke_vec=1.0)\n",
        "model = get_model()\n",
        "model = freeze_backbone_layers(model, 0,10)\n",
        "\n",
        "train_loss =  []\n",
        "test_loss = []"
      ],
      "execution_count": 1,
      "outputs": []
    },
    {
      "cell_type": "code",
      "metadata": {
        "id": "KCLOEz6xNtLq"
      },
      "source": [
        "model = freeze_backbone_layers(model, 0,10)\n",
        "train_loss, tmp_train_acc, test_loss, tmp_test_acc = train(model,train_loader,valid_loader, lr=1e-4, max_epochs=15, patience=15)\n",
        "plot_history(train_loss, tmp_train_acc, test_loss, tmp_test_acc)"
      ],
      "execution_count": null,
      "outputs": []
    },
    {
      "cell_type": "code",
      "metadata": {
        "id": "Xk9yyByaN7Fs"
      },
      "source": [
        "model = freeze_backbone_layers(model, 0,10)\n",
        "tmp_train_loss, tmp_train_acc, tmp_test_loss, tmp_test_acc = train(model,train_loader,valid_loader, lr=1e-4, max_epochs=15, patience=15)\n",
        "\n",
        "# save loss for later use\n",
        "train_loss += tmp_test_acc\n",
        "test_loss += tmp_test_loss\n",
        "\n",
        "plot_history(tmp_train_loss, tmp_train_acc, tmp_test_loss, tmp_test_acc)"
      ],
      "execution_count": null,
      "outputs": []
    },
    {
      "cell_type": "code",
      "execution_count": 1,
      "metadata": {},
      "outputs": [
        {
          "output_type": "error",
          "ename": "NameError",
          "evalue": "name 'datetime' is not defined",
          "traceback": [
            "\u001b[0;31m---------------------------------------------------------------------------\u001b[0m",
            "\u001b[0;31mNameError\u001b[0m                                 Traceback (most recent call last)",
            "\u001b[0;32m<ipython-input-1-eac325a67051>\u001b[0m in \u001b[0;36m<module>\u001b[0;34m\u001b[0m\n\u001b[0;32m----> 1\u001b[0;31m \u001b[0mtime_stamp\u001b[0m \u001b[0;34m=\u001b[0m \u001b[0mdatetime\u001b[0m\u001b[0;34m.\u001b[0m\u001b[0mnow\u001b[0m\u001b[0;34m(\u001b[0m\u001b[0;34m)\u001b[0m\u001b[0;34m.\u001b[0m\u001b[0mstrftime\u001b[0m\u001b[0;34m(\u001b[0m\u001b[0;34m\"%d-%H-%M\"\u001b[0m\u001b[0;34m)\u001b[0m\u001b[0;34m\u001b[0m\u001b[0;34m\u001b[0m\u001b[0m\n\u001b[0m\u001b[1;32m      2\u001b[0m \u001b[0mfilename\u001b[0m \u001b[0;34m=\u001b[0m \u001b[0;34m\"ResNet18_\"\u001b[0m \u001b[0;34m+\u001b[0m \u001b[0mtime_stamp\u001b[0m \u001b[0;34m+\u001b[0m \u001b[0;34m\".pth\"\u001b[0m\u001b[0;34m\u001b[0m\u001b[0;34m\u001b[0m\u001b[0m\n\u001b[1;32m      3\u001b[0m \u001b[0mtorch\u001b[0m\u001b[0;34m.\u001b[0m\u001b[0msave\u001b[0m\u001b[0;34m(\u001b[0m\u001b[0mmodel\u001b[0m\u001b[0;34m.\u001b[0m\u001b[0mstate_dict\u001b[0m\u001b[0;34m(\u001b[0m\u001b[0;34m)\u001b[0m\u001b[0;34m,\u001b[0m \u001b[0mfilename\u001b[0m\u001b[0;34m)\u001b[0m\u001b[0;34m\u001b[0m\u001b[0;34m\u001b[0m\u001b[0m\n\u001b[1;32m      4\u001b[0m \u001b[0;34m\u001b[0m\u001b[0m\n\u001b[1;32m      5\u001b[0m \u001b[0msummary\u001b[0m \u001b[0;34m=\u001b[0m \u001b[0;34m{\u001b[0m\u001b[0;34m}\u001b[0m\u001b[0;34m\u001b[0m\u001b[0;34m\u001b[0m\u001b[0m\n",
            "\u001b[0;31mNameError\u001b[0m: name 'datetime' is not defined"
          ]
        }
      ],
      "source": [
        "time_stamp = datetime.now().strftime(\"%d-%H-%M\")\n",
        "filename = \"ResNet18_\" + time_stamp + \".pth\"\n",
        "torch.save(model.state_dict(), filename)\n",
        "\n",
        "summary = {}\n",
        "summary[\"Model name\"] = filename; \n",
        "summary[\"Epochs\"] = len(train_loss)\n",
        "summary[\"Train loss\"] = train_loss\n",
        "summaey[\"Test loss\"] = test_loss\n",
        "\n",
        "summary_file_name = \"summary_\" + time_stamp\n",
        "with open(summary_file_name, 'w') as outfile:\n",
        "            json.dump(summary, outfile)"
      ]
    },
    {
      "cell_type": "code",
      "execution_count": null,
      "metadata": {},
      "outputs": [],
      "source": []
    }
  ]
}