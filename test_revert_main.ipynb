{
 "cells": [
  {
   "cell_type": "code",
   "execution_count": null,
   "id": "distinguished-amber",
   "metadata": {},
   "outputs": [
    {
     "name": "stdout",
     "output_type": "stream",
     "text": [
      "Cloning into 'Visuomotor-Behaviour-Cloning'...\n",
      "remote: Enumerating objects: 829, done.\u001b[K\n",
      "remote: Counting objects: 100% (829/829), done.\u001b[K\n",
      "remote: Compressing objects: 100% (532/532), done.\u001b[K\n",
      "remote: Total 829 (delta 452), reused 658 (delta 291), pack-reused 0\u001b[K\n",
      "Receiving objects: 100% (829/829), 6.80 MiB | 2.28 MiB/s, done.\n",
      "Resolving deltas: 100% (452/452), done.\n",
      "^C\n",
      "\u001b[31mERROR: Operation cancelled by user\u001b[0m\n",
      "[Errno 2] No such file or directory: 'Visuomotor-Behaviour-Cloning.git'\n",
      "/home/jakob/Documents/S21-advanced-control-project/Visuomotor-Behaviour-Cloning\n",
      "Switched to branch 'reverted_main'\n",
      "Your branch is up to date with 'origin/reverted_main'.\n"
     ]
    }
   ],
   "source": [
    "!git clone https://github.com/SinaPourSoltani/Visuomotor-Behaviour-Cloning.git\n",
    "!pip3 install -r \"Visuomotor-Behaviour-Cloning/requirements.txt\"\n",
    "%cd Visuomotor-Behaviour-Cloning.git\n",
    "!git checkout reverted_main\n",
    "\n",
    "import os \n",
    "os.kill(os.getpid(), 9)"
   ]
  },
  {
   "cell_type": "code",
   "execution_count": null,
   "id": "sapphire-diameter",
   "metadata": {},
   "outputs": [],
   "source": [
    "import sys\n",
    "import json\n",
    "from datetime import datetime\n",
    "\n",
    "sys.path.append('Visuomotor-Behaviour-Cloning')\n",
    "\n",
    "from BehaviourCloningCNN import *\n",
    "\n",
    "\n",
    "# Without shadows\n",
    "#data_link = \"https://github.com/SinaPourSoltani/Visuomotor-Behaviour-Cloning/releases/download/v0.2/data.zip\"\n",
    "#is_stereo = False\n",
    "\n",
    "# With Shadows\n",
    "data_link = \"https://github.com/SinaPourSoltani/Visuomotor-Behaviour-Cloning/releases/download/v0.3/data.zip\"\n",
    "is_stereo = False\n",
    "\n",
    "# Stereo Images\n",
    "#data_link = \"https://github.com/SinaPourSoltani/Visuomotor-Behaviour-Cloning/releases/download/v0.4/data.zip\" \n",
    "#is_stereo = True\n",
    "\n",
    "load_data(data_link)\n",
    "train_loader, valid_loader, test_loader = get_data_loaders(*get_episodes(),is_stereo=is_stereo, std_noise_poke_vec=0.0)\n",
    "model = get_model(is_stereo=is_stereo)\n",
    "\n",
    "train_loss =  []\n",
    "test_loss = []"
   ]
  },
  {
   "cell_type": "code",
   "execution_count": null,
   "id": "vanilla-insulin",
   "metadata": {},
   "outputs": [],
   "source": [
    "model = freeze_backbone_layers(model, 0,10)\n",
    "train_loss, tmp_train_acc, test_loss, tmp_test_acc = train(model,train_loader,valid_loader, lr=1e-4, max_epochs=15, patience=15, is_stereo=is_stereo)\n",
    "plot_history(train_loss, tmp_train_acc, test_loss, tmp_test_acc)"
   ]
  },
  {
   "cell_type": "code",
   "execution_count": null,
   "id": "seven-cannon",
   "metadata": {},
   "outputs": [],
   "source": [
    "model = freeze_backbone_layers(model,-2,-1)\n",
    "tmp_train_loss, tmp_train_acc, tmp_test_loss, tmp_test_acc = train(model,train_loader,valid_loader, lr=1e-5, max_epochs=15, patience=15, is_stereo=is_stereo)\n",
    "\n",
    "train_loss += tmp_train_loss\n",
    "test_loss += tmp_test_loss\n",
    "\n",
    "plot_history(tmp_train_loss, tmp_train_acc, tmp_test_loss, tmp_test_acc)"
   ]
  }
 ],
 "metadata": {
  "kernelspec": {
   "display_name": "venv",
   "language": "python",
   "name": "venv"
  },
  "language_info": {
   "codemirror_mode": {
    "name": "ipython",
    "version": 3
   },
   "file_extension": ".py",
   "mimetype": "text/x-python",
   "name": "python",
   "nbconvert_exporter": "python",
   "pygments_lexer": "ipython3",
   "version": "3.8.5"
  }
 },
 "nbformat": 4,
 "nbformat_minor": 5
}
