{
  "nbformat": 4,
  "nbformat_minor": 0,
  "metadata": {
    "colab": {
      "name": "Behaviour Cloning CNN",
      "provenance": [],
      "collapsed_sections": []
    },
    "kernelspec": {
      "name": "venv",
      "display_name": "venv",
      "language": "python"
    },
    "accelerator": "GPU"
  },
  "cells": [
    {
      "cell_type": "code",
      "metadata": {
        "id": "iBfoFQYeP8t6"
      },
      "source": [
        "!git clone https://github.com/SinaPourSoltani/Visuomotor-Behaviour-Cloning.git\n",
        "!pip3 install -r \"Visuomotor-Behaviour-Cloning/requirements.txt\"\n",
        "\n",
        "import os \n",
        "os.kill(os.getpid(), 9)"
      ],
      "execution_count": null,
      "outputs": []
    },
    {
      "cell_type": "code",
      "execution_count": null,
      "metadata": {},
      "outputs": [],
      "source": []
    },
    {
      "cell_type": "code",
      "metadata": {
        "id": "UJgMGBKWN1Ii"
      },
      "source": [
        "import sys\n",
        "import json\n",
        "from datetime import datetime\n",
        "from torchvision import transforms\n",
        "sys.path.append('Visuomotor-Behaviour-Cloning')\n",
        "from BehaviourCloningCNN import *\n",
        "\n",
        "# Without shadows\n",
        "#data_link = \"https://github.com/SinaPourSoltani/Visuomotor-Behaviour-Cloning/releases/download/v0.2/data.zip\"\n",
        "#is_stereo = False\n",
        "\n",
        "# With Shadows\n",
        "#data_link = \"https://github.com/SinaPourSoltani/Visuomotor-Behaviour-Cloning/releases/download/v0.3/data.zip\"\n",
        "#is_stereo = False\n",
        "\n",
        "# Stereo Images\n",
        "#data_link = \"https://github.com/SinaPourSoltani/Visuomotor-Behaviour-Cloning/releases/download/v0.4/data.zip\" \n",
        "#is_stereo = True\n",
        "\n",
        "augmentations = transforms.Compose([\n",
        "    transforms.ColorJitter(brightness=0.1, contrast=0.1, saturation=0.1, hue=0.1),\n",
        "    transforms.GaussianBlur(kernel_size=5),\n",
        "    transforms.RandomAffine(degrees=2,translate=(0.02,0.02),interpolation=transforms.functional.InterpolationMode.InterpolationMode.BILINEAR, fill=(255,255,255)),\n",
        "])\n",
        "# augmentations = None\n",
        "\n",
        "load_data(data_link)\n",
        "train_loader, valid_loader, test_loader = get_data_loaders(*get_episodes(),transforms=augmentations, is_stereo=is_stereo, std_noise_poke_vec=None)\n",
        "model = get_model(is_stereo=is_stereo)\n",
        "\n",
        "train_loss =  []\n",
        "test_loss = []"
      ],
      "execution_count": null,
      "outputs": []
    },
    {
      "cell_type": "code",
      "metadata": {
        "id": "KCLOEz6xNtLq"
      },
      "source": [
        "model = freeze_backbone(model, is_stereo=is_stereo)\n",
        "train_loss, tmp_train_acc, test_loss, tmp_test_acc = train(model,train_loader,valid_loader, lr=1e-4, max_epochs=15, patience=15, is_stereo=is_stereo)\n",
        "plot_history(train_loss, tmp_train_acc, test_loss, tmp_test_acc)"
      ],
      "execution_count": null,
      "outputs": []
    },
    {
      "cell_type": "code",
      "metadata": {
        "id": "Xk9yyByaN7Fs"
      },
      "source": [
        "model = unfreeze_backbone(model, is_stereo=is_stereo)\n",
        "tmp_train_loss, tmp_train_acc, tmp_test_loss, tmp_test_acc = train(model,train_loader,valid_loader, lr=1e-5, max_epochs=15, patience=15, is_stereo=is_stereo)\n",
        "\n",
        "# save loss for later use\n",
        "train_loss += tmp_train_loss\n",
        "test_loss += tmp_test_loss\n",
        "\n",
        "plot_history(tmp_train_loss, tmp_train_acc, tmp_test_loss, tmp_test_acc)"
      ],
      "execution_count": null,
      "outputs": []
    },
    {
      "cell_type": "code",
      "execution_count": null,
      "metadata": {},
      "outputs": [],
      "source": [
        "time_stamp = datetime.now().strftime(\"%d-%H-%M\")\n",
        "filename = \"ResNet18_\" + time_stamp + \".pth\"\n",
        "torch.save(model.state_dict(), filename)\n",
        "\n",
        "summary = {}\n",
        "summary[\"Model name\"] = filename; \n",
        "summary[\"Epochs\"] = len(train_loss)\n",
        "summary[\"Train loss\"] = train_loss\n",
        "summary[\"Test loss\"] = test_loss\n",
        "summary[\"Is stereo\"] = is_stereo\n",
        "\n",
        "summary_file_name = \"summary_\" + time_stamp\n",
        "with open(summary_file_name, 'w') as outfile:\n",
        "            json.dump(summary, outfile)"
      ]
    },
    {
      "cell_type": "code",
      "execution_count": null,
      "metadata": {},
      "outputs": [],
      "source": []
    }
  ]
}